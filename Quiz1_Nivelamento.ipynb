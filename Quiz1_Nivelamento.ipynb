{
 "cells": [
  {
   "cell_type": "code",
   "execution_count": 9,
   "metadata": {},
   "outputs": [],
   "source": [
    "idade1= 20\n",
    "idade2= 35"
   ]
  },
  {
   "cell_type": "markdown",
   "metadata": {},
   "source": [
    "soma, subtração, multiplicação e divisão de variaveis.\n",
    "podemos também armazenar operações de variaveis em outras variaveis"
   ]
  },
  {
   "cell_type": "code",
   "execution_count": 10,
   "metadata": {},
   "outputs": [
    {
     "name": "stdout",
     "output_type": "stream",
     "text": [
      "55\n",
      "55\n",
      "700\n",
      "0.5714285714285714\n"
     ]
    }
   ],
   "source": [
    "idade1 + idade2\n",
    "somaIdades= idade1 + idade2\n",
    "print(somaIdades)\n",
    "\n",
    "idade1 - idade2\n",
    "subtraçãoIdades= idade1 + idade2\n",
    "print(subtraçãoIdades)\n",
    "\n",
    "idade1 * idade2\n",
    "multiplicaçãoIdades= idade1 * idade2\n",
    "print(multiplicaçãoIdades)\n",
    "\n",
    "idade1 / idade2\n",
    "divisãoIdades= idade1 / idade2\n",
    "print(divisãoIdades)"
   ]
  },
  {
   "cell_type": "markdown",
   "metadata": {},
   "source": [
    "mas as operaçãos não necessariamente precisam ser feita entre variaveis, podem ser entre variavel e numero"
   ]
  },
  {
   "cell_type": "code",
   "execution_count": 11,
   "metadata": {},
   "outputs": [
    {
     "name": "stdout",
     "output_type": "stream",
     "text": [
      "30\n",
      "5\n",
      "80\n",
      "4.0\n"
     ]
    }
   ],
   "source": [
    "print(idade1 + 10)\n",
    "print(idade1 - 15)\n",
    "print(idade1 * 4)\n",
    "print(idade1 / 5)\n"
   ]
  },
  {
   "cell_type": "markdown",
   "metadata": {},
   "source": [
    "Também é possivel fazer diversas operações de uma vez só"
   ]
  },
  {
   "cell_type": "code",
   "execution_count": 12,
   "metadata": {},
   "outputs": [
    {
     "name": "stdout",
     "output_type": "stream",
     "text": [
      "110\n",
      "66.25\n",
      "36.25\n"
     ]
    }
   ],
   "source": [
    "print(2*(idade1 + idade2))\n",
    "print(2*idade1 + 3* idade2 / 4)\n",
    "print((2*idade1 + 3* idade2)/4)"
   ]
  },
  {
   "cell_type": "markdown",
   "metadata": {},
   "source": [
    "Exponenciação\n"
   ]
  },
  {
   "cell_type": "code",
   "execution_count": 13,
   "metadata": {},
   "outputs": [
    {
     "name": "stdout",
     "output_type": "stream",
     "text": [
      "400\n",
      "225\n"
     ]
    }
   ],
   "source": [
    "print(idade1 **2)\n",
    "print(15 **2)"
   ]
  },
  {
   "cell_type": "markdown",
   "metadata": {},
   "source": [
    "é possivel usar barra dupla para exibir a parte inteira de uma divisão, caso o resultado esteja quebrado."
   ]
  },
  {
   "cell_type": "code",
   "execution_count": 14,
   "metadata": {},
   "outputs": [
    {
     "name": "stdout",
     "output_type": "stream",
     "text": [
      "1.75\n",
      "1\n"
     ]
    }
   ],
   "source": [
    "print(idade2 / idade1)\n",
    "print(idade2 // idade1)\n"
   ]
  },
  {
   "cell_type": "markdown",
   "metadata": {},
   "source": [
    "Para ter o resto de uma divisão, se utiliza o modulo %"
   ]
  },
  {
   "cell_type": "code",
   "execution_count": 15,
   "metadata": {},
   "outputs": [
    {
     "data": {
      "text/plain": [
       "15"
      ]
     },
     "execution_count": 15,
     "metadata": {},
     "output_type": "execute_result"
    }
   ],
   "source": [
    "idade2%idade1"
   ]
  },
  {
   "cell_type": "markdown",
   "metadata": {},
   "source": [
    "o sinal de + também é utilizavel para unir duas variaves, sendo elas texto, para apenas utilizar as variaveis utilizamos a virgula. "
   ]
  },
  {
   "cell_type": "code",
   "execution_count": 16,
   "metadata": {},
   "outputs": [
    {
     "name": "stdout",
     "output_type": "stream",
     "text": [
      "Camila Dantas\n",
      "Olá, Camila você tem 35 anos\n"
     ]
    }
   ],
   "source": [
    "nome= 'Camila'\n",
    "sobrenome= 'Dantas'\n",
    "print(nome+ ' '+sobrenome)\n",
    "\n",
    "print('Olá,', nome, 'você tem', idade1 + 15, 'anos')"
   ]
  },
  {
   "cell_type": "markdown",
   "metadata": {},
   "source": [
    "utilizando (\\n) é possivel fazer a quebra de linha"
   ]
  },
  {
   "cell_type": "code",
   "execution_count": 17,
   "metadata": {},
   "outputs": [
    {
     "name": "stdout",
     "output_type": "stream",
     "text": [
      "olá, Camila \n",
      " você tem 35 anos.\n"
     ]
    }
   ],
   "source": [
    "print('olá,',nome,'\\n', 'você tem', idade1 + 15, 'anos.')"
   ]
  },
  {
   "cell_type": "markdown",
   "metadata": {},
   "source": [
    "o input é utilizado para soliticar uma informação do usuario, também é possivel colocar o input numa variavel e armazenar a resposta do usuario, o padrão do input é ler tudo como string(tudo em texto), então para caso dele precisar usar numeros inteiros, é necessario usar o int ou float"
   ]
  },
  {
   "cell_type": "code",
   "execution_count": 18,
   "metadata": {},
   "outputs": [],
   "source": [
    "input('digite o seu nome')\n",
    "nome1= input('digite o seu nome e sobrenome')\n"
   ]
  },
  {
   "cell_type": "markdown",
   "metadata": {},
   "source": [
    "1) Qual é o valor impresso ao final da seguinte sequência de comandos? \n",
    "\n",
    " \n",
    " a) Nada é impresso, ocorre um erro de execução;\n",
    "\n",
    "b) quinta-feira;\n",
    "\n",
    "c) 32.5;  \n",
    "\n",
    "d) 19."
   ]
  },
  {
   "cell_type": "code",
   "execution_count": 19,
   "metadata": {},
   "outputs": [
    {
     "name": "stdout",
     "output_type": "stream",
     "text": [
      "32.5\n"
     ]
    }
   ],
   "source": [
    "dia = 'quinta-feira'\n",
    "dia = 32.5\n",
    "print(dia)\n",
    "dia = 19\n",
    "# a reposta é letra C 32.5"
   ]
  },
  {
   "cell_type": "markdown",
   "metadata": {},
   "source": [
    "2) Verdadeiro ou falso: o seguinte nome é legal para uma variável em Python: Uma_boa_nota_é_A+"
   ]
  },
  {
   "cell_type": "code",
   "execution_count": 21,
   "metadata": {},
   "outputs": [],
   "source": [
    "Uma_boa_nota_é_A = 12\n",
    "#é falso pois não é legal colocar o sinal de + no nome da variavel"
   ]
  },
  {
   "cell_type": "markdown",
   "metadata": {},
   "source": [
    "3) O que imprime o seguinte comando?\n",
    " print((18 // 4), (18 % 4), (18/4)) "
   ]
  },
  {
   "cell_type": "code",
   "execution_count": 22,
   "metadata": {},
   "outputs": [
    {
     "name": "stdout",
     "output_type": "stream",
     "text": [
      "4 2 4.5\n"
     ]
    }
   ],
   "source": [
    " print((18 // 4), (18 % 4), (18/4)) \n",
    "#resposta é a letra C"
   ]
  },
  {
   "cell_type": "markdown",
   "metadata": {},
   "source": [
    "4) O que é impresso pelo seguinte comando?\n",
    "n = input(\"Por favor, entre com sua idade:\") # usuário entra com 18\n",
    "print (type(n)) "
   ]
  },
  {
   "cell_type": "code",
   "execution_count": 23,
   "metadata": {},
   "outputs": [
    {
     "name": "stdout",
     "output_type": "stream",
     "text": [
      "<class 'str'>\n"
     ]
    }
   ],
   "source": [
    "n = input(\"Por favor, entre com sua idade:\") # usuário entra com 18\n",
    "print (type(n)) \n",
    "#letra A, já que a está sendo armazenado uma string"
   ]
  },
  {
   "cell_type": "markdown",
   "metadata": {},
   "source": [
    "5) Qual é o valor das expressões a seguir?\n",
    "x = 16 - 2 * 5 // 3 + 1\n",
    "y = 2 ** 2 ** 3 * 3\n",
    "print(x, y)"
   ]
  },
  {
   "cell_type": "code",
   "execution_count": 24,
   "metadata": {},
   "outputs": [
    {
     "name": "stdout",
     "output_type": "stream",
     "text": [
      "14 768\n"
     ]
    }
   ],
   "source": [
    "x = 16 - 2 * 5 // 3 + 1\n",
    "y = 2 ** 2 ** 3 * 3\n",
    "print(x, y)\n",
    "# Letra A"
   ]
  },
  {
   "cell_type": "markdown",
   "metadata": {},
   "source": [
    "6) O que é impresso pelo comando a seguir?:\n",
    "x = 12\n",
    "x -= 1\n",
    "print(x) "
   ]
  },
  {
   "cell_type": "code",
   "execution_count": 25,
   "metadata": {},
   "outputs": [
    {
     "name": "stdout",
     "output_type": "stream",
     "text": [
      "11\n"
     ]
    }
   ],
   "source": [
    "x = 12\n",
    "x -= 1\n",
    "print(x) \n",
    "#letra C"
   ]
  }
 ],
 "metadata": {
  "kernelspec": {
   "display_name": "Python 3",
   "language": "python",
   "name": "python3"
  },
  "language_info": {
   "codemirror_mode": {
    "name": "ipython",
    "version": 3
   },
   "file_extension": ".py",
   "mimetype": "text/x-python",
   "name": "python",
   "nbconvert_exporter": "python",
   "pygments_lexer": "ipython3",
   "version": "3.11.9"
  }
 },
 "nbformat": 4,
 "nbformat_minor": 2
}
